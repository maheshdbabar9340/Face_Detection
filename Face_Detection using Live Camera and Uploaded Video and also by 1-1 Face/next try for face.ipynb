{
 "cells": [
  {
   "cell_type": "code",
   "execution_count": 4,
   "metadata": {},
   "outputs": [
    {
     "name": "stdout",
     "output_type": "stream",
     "text": [
      "['2.jpeg', 'aamir.jpg', 'choti.jpg', 'kareena.jpg', 'mahesh.jpg', 'rahul.jpeg', 'Samarth.jpg', 'Sarthak.jpg', 'tt.jpg']\n",
      "['2', 'aamir', 'choti', 'kareena', 'mahesh', 'rahul', 'Samarth', 'Sarthak', 'tt']\n",
      "encoding complete\n",
      "[0.39884875 0.79672943 0.8748368  0.81666111 0.40153006 0.64754578\n",
      " 0.68572728 0.77289468 0.79239736]\n",
      "2\n",
      "[0.41987558 0.78097739 0.91036319 0.80754336 0.42354632 0.68171684\n",
      " 0.67909408 0.77630414 0.80685703]\n",
      "2\n",
      "[0.44582248 0.79874734 0.90899425 0.82808596 0.46280539 0.66420164\n",
      " 0.67087424 0.75464669 0.8059905 ]\n",
      "2\n",
      "[0.39440166 0.8006341  0.88371438 0.82052616 0.41745516 0.67710722\n",
      " 0.67199176 0.74959569 0.73930869]\n",
      "2\n",
      "[0.40685782 0.72075257 0.86654217 0.81422129 0.38534631 0.64893299\n",
      " 0.6391342  0.74558039 0.77187006]\n",
      "MAHESH\n",
      "[0.40358825 0.70456642 0.84408749 0.8188366  0.43081993 0.66555176\n",
      " 0.63305798 0.73676397 0.72210403]\n",
      "2\n",
      "[0.37390993 0.72058685 0.83907473 0.82502154 0.429625   0.64900095\n",
      " 0.65411114 0.74909406 0.74147832]\n",
      "2\n",
      "[0.40862746 0.7607074  0.87920481 0.84600636 0.4211499  0.68989904\n",
      " 0.69811909 0.80262074 0.79602582]\n",
      "2\n",
      "[0.41559915 0.73940665 0.86502031 0.78713512 0.41813634 0.65123229\n",
      " 0.64650414 0.75402982 0.78154205]\n",
      "2\n",
      "[0.42774459 0.74457105 0.86748513 0.80472112 0.45198107 0.66167127\n",
      " 0.66254018 0.76001569 0.7696858 ]\n",
      "2\n",
      "[0.45989486 0.77544848 0.82930715 0.81611568 0.44662548 0.64481039\n",
      " 0.67516487 0.73585869 0.77082115]\n",
      "MAHESH\n"
     ]
    }
   ],
   "source": [
    "import cv2\n",
    "import numpy as np\n",
    "import face_recognition\n",
    "import os\n",
    "\n",
    "\n",
    "path='ImageBasic'\n",
    "images=[]\n",
    "classNames=[]\n",
    "myList=os.listdir(path)\n",
    "print(myList)\n",
    "\n",
    "for cl in myList:\n",
    "  currImg= cv2.imread(f'{path}/{cl}')\n",
    "  images.append(currImg)\n",
    "  classNames.append(os.path.splitext(cl)[0])\n",
    "\n",
    "print(classNames)\n",
    "\n",
    "def findEncoding(images):\n",
    "  encodeList=[]\n",
    "  for img in images:\n",
    "    img =cv2.cvtColor(img,cv2.COLOR_BGR2RGB)\n",
    "    encode = face_recognition.face_encodings(img)[0]\n",
    "    encodeList.append(encode)\n",
    "  return encodeList\n",
    "\n",
    "encodeListKnown = findEncoding(images)\n",
    "#print(len(encodeListKnown))\n",
    "print(\"encoding complete\")\n",
    "\n",
    "# cap = cv2.VideoCapture('aamir.mp4')\n",
    "cap = cv2.VideoCapture(0)\n",
    "\n",
    "\n",
    "while True:\n",
    "    success, img =cap.read()\n",
    "    imgS = cv2.resize(img, (0,0),None,0.25,0.25)\n",
    "    imgS= cv2.cvtColor(imgS,cv2.COLOR_BGR2RGB)\n",
    "    faceCurrFrame = face_recognition.face_locations(imgS)\n",
    "    encodeCurrFrame = face_recognition.face_encodings(imgS,faceCurrFrame)\n",
    "\n",
    "\n",
    "    for encodeFace,faceLoc in zip(encodeCurrFrame,faceCurrFrame):\n",
    "        matches = face_recognition.compare_faces(encodeListKnown,encodeFace)\n",
    "        faceDis = face_recognition.face_distance(encodeListKnown,encodeFace)\n",
    "        print(faceDis)\n",
    "        matchIndex= np.argmin(faceDis)\n",
    "\n",
    "        if matches[matchIndex]:\n",
    "            name =classNames[matchIndex].upper()\n",
    "            print(name)\n",
    "            y1,x2,y2,x1=faceLoc\n",
    "            y1,x2,y2,x1=y1*4,x2*4,y2*4,x1*4\n",
    "            cv2.rectangle(img,(x1,y1),(x2,y2),(0,255,0),2)\n",
    "            cv2.rectangle(img,(x1,y2-35),(x2,y2),(0,255,0),cv2.FILLED)\n",
    "\n",
    "            cv2.putText(img,name,(x1+6,y2-6),cv2.FONT_HERSHEY_COMPLEX,1,(255,255,255),2)\n",
    "\n",
    "    cv2.imshow('Webcam', img)\n",
    "#     cv2.waitKey(1)\n",
    "    \n",
    "    k = cv2.waitKey(30) & 0xff\n",
    "    if k == 27:\n",
    "        break\n",
    "        \n",
    "cap.release()\n",
    "cv2.destroyAllWindows()"
   ]
  },
  {
   "cell_type": "code",
   "execution_count": 1,
   "metadata": {},
   "outputs": [
    {
     "name": "stdout",
     "output_type": "stream",
     "text": [
      "Collecting face_recognition\n",
      "  Using cached https://files.pythonhosted.org/packages/1e/95/f6c9330f54ab07bfa032bf3715c12455a381083125d8880c43cbe76bb3d0/face_recognition-1.3.0-py2.py3-none-any.whl\n",
      "Requirement already satisfied: numpy in c:\\programdata\\anaconda3\\lib\\site-packages (from face_recognition) (1.16.2)\n",
      "Requirement already satisfied: face-recognition-models>=0.3.0 in c:\\programdata\\anaconda3\\lib\\site-packages (from face_recognition) (0.3.0)\n",
      "Requirement already satisfied: Pillow in c:\\programdata\\anaconda3\\lib\\site-packages (from face_recognition) (5.4.1)\n",
      "Collecting dlib>=19.7 (from face_recognition)\n",
      "  Using cached https://files.pythonhosted.org/packages/11/93/ec41d6ef7e769977aa08e49441c52276da27859f12dcbf1c6deb96ce5e9f/dlib-19.22.0.tar.gz\n",
      "Requirement already satisfied: Click>=6.0 in c:\\programdata\\anaconda3\\lib\\site-packages (from face_recognition) (7.0)\n",
      "Building wheels for collected packages: dlib\n",
      "  Building wheel for dlib (setup.py): started\n",
      "  Building wheel for dlib (setup.py): still running...\n",
      "  Building wheel for dlib (setup.py): still running...\n",
      "  Building wheel for dlib (setup.py): still running...\n",
      "  Building wheel for dlib (setup.py): still running...\n",
      "  Building wheel for dlib (setup.py): still running...\n",
      "  Building wheel for dlib (setup.py): still running...\n",
      "  Building wheel for dlib (setup.py): finished with status 'done'\n",
      "  Stored in directory: C:\\Users\\mahes\\AppData\\Local\\pip\\Cache\\wheels\\bd\\46\\7c\\deeb33803394006488f2378a9adeae08c65c9560f27a85fbce\n",
      "Successfully built dlib\n",
      "Installing collected packages: dlib, face-recognition\n",
      "Successfully installed dlib-19.22.0 face-recognition-1.3.0\n",
      "Note: you may need to restart the kernel to use updated packages.\n"
     ]
    }
   ],
   "source": [
    "pip install face_recognition"
   ]
  },
  {
   "cell_type": "code",
   "execution_count": 1,
   "metadata": {},
   "outputs": [
    {
     "name": "stdout",
     "output_type": "stream",
     "text": [
      "Requirement already satisfied: dlib in c:\\programdata\\anaconda3\\lib\\site-packages (19.22.0)\n",
      "Note: you may need to restart the kernel to use updated packages.\n"
     ]
    }
   ],
   "source": [
    "pip install dlib"
   ]
  },
  {
   "cell_type": "code",
   "execution_count": 1,
   "metadata": {},
   "outputs": [
    {
     "name": "stdout",
     "output_type": "stream",
     "text": [
      "Collecting tensorflow\n",
      "  Using cached https://files.pythonhosted.org/packages/53/a9/15a5a338160e5e598a0eef385aa29e0ad3a64d62957abdaaf9ed6349c452/tensorflow-2.5.0-cp37-cp37m-win_amd64.whl\n",
      "Collecting astunparse~=1.6.3 (from tensorflow)\n",
      "  Using cached https://files.pythonhosted.org/packages/2b/03/13dde6512ad7b4557eb792fbcf0c653af6076b81e5941d36ec61f7ce6028/astunparse-1.6.3-py2.py3-none-any.whl\n",
      "Collecting termcolor~=1.1.0 (from tensorflow)\n",
      "Collecting gast==0.4.0 (from tensorflow)\n",
      "  Using cached https://files.pythonhosted.org/packages/b6/48/583c032b79ae5b3daa02225a675aeb673e58d2cb698e78510feceb11958c/gast-0.4.0-py3-none-any.whl\n",
      "Collecting h5py~=3.1.0 (from tensorflow)\n",
      "  Using cached https://files.pythonhosted.org/packages/53/c2/77bd81922264520b492bd7bfd1a51a845bc1187445408a7a83db284fd566/h5py-3.1.0-cp37-cp37m-win_amd64.whl\n",
      "Collecting numpy~=1.19.2 (from tensorflow)\n",
      "  Using cached https://files.pythonhosted.org/packages/ff/18/60ac053857fb924b0324c81200b59c00317ebaa3c14b7478266b50ffed19/numpy-1.19.5-cp37-cp37m-win_amd64.whl\n",
      "Collecting keras-nightly~=2.5.0.dev (from tensorflow)\n",
      "  Using cached https://files.pythonhosted.org/packages/aa/e7/53bc896aa4e11a87aac10a625c676b3a3d57d1c8d9929e4809d31fa0b7d5/keras_nightly-2.5.0.dev2021032900-py2.py3-none-any.whl\n",
      "Requirement already satisfied: flatbuffers~=1.12.0 in c:\\programdata\\anaconda3\\lib\\site-packages (from tensorflow) (1.12)\n",
      "Collecting opt-einsum~=3.3.0 (from tensorflow)\n",
      "  Using cached https://files.pythonhosted.org/packages/bc/19/404708a7e54ad2798907210462fd950c3442ea51acc8790f3da48d2bee8b/opt_einsum-3.3.0-py3-none-any.whl\n",
      "Collecting wheel~=0.35 (from tensorflow)\n",
      "  Using cached https://files.pythonhosted.org/packages/65/63/39d04c74222770ed1589c0eaba06c05891801219272420b40311cd60c880/wheel-0.36.2-py2.py3-none-any.whl\n",
      "Collecting protobuf>=3.9.2 (from tensorflow)\n",
      "  Using cached https://files.pythonhosted.org/packages/fe/b6/0b5fedc572c8771aa4f4916f81ef404203bafbd7461e859c3338316ec016/protobuf-3.17.3-cp37-cp37m-win_amd64.whl\n",
      "Collecting tensorflow-estimator<2.6.0,>=2.5.0rc0 (from tensorflow)\n",
      "  Using cached https://files.pythonhosted.org/packages/ec/78/b27f73e923becc6e79e18fe112cf75e3200d1ee35b0dba8fa46181bce56c/tensorflow_estimator-2.5.0-py2.py3-none-any.whl\n",
      "Collecting grpcio~=1.34.0 (from tensorflow)\n",
      "  Using cached https://files.pythonhosted.org/packages/91/e8/f55bf28a975f30f3cb4fd31db7c84eb3ae1551628230cafd7cf33b02b732/grpcio-1.34.1-cp37-cp37m-win_amd64.whl\n",
      "Collecting absl-py~=0.10 (from tensorflow)\n",
      "  Using cached https://files.pythonhosted.org/packages/23/47/835652c7e19530973c73c65e652fc53bd05725d5a7cf9bb8706777869c1e/absl_py-0.13.0-py3-none-any.whl\n",
      "Collecting keras-preprocessing~=1.1.2 (from tensorflow)\n",
      "  Using cached https://files.pythonhosted.org/packages/79/4c/7c3275a01e12ef9368a892926ab932b33bb13d55794881e3573482b378a7/Keras_Preprocessing-1.1.2-py2.py3-none-any.whl\n",
      "Collecting tensorboard~=2.5 (from tensorflow)\n",
      "  Using cached https://files.pythonhosted.org/packages/44/f5/7feea02a3fb54d5db827ac4b822a7ba8933826b36de21880518250b8733a/tensorboard-2.5.0-py3-none-any.whl\n",
      "Collecting wrapt~=1.12.1 (from tensorflow)\n",
      "Collecting six~=1.15.0 (from tensorflow)\n",
      "  Using cached https://files.pythonhosted.org/packages/ee/ff/48bde5c0f013094d729fe4b0316ba2a24774b3ff1c52d924a8a4cb04078a/six-1.15.0-py2.py3-none-any.whl\n",
      "Collecting google-pasta~=0.2 (from tensorflow)\n",
      "  Using cached https://files.pythonhosted.org/packages/a3/de/c648ef6835192e6e2cc03f40b19eeda4382c49b5bafb43d88b931c4c74ac/google_pasta-0.2.0-py3-none-any.whl\n",
      "Collecting typing-extensions~=3.7.4 (from tensorflow)\n",
      "  Using cached https://files.pythonhosted.org/packages/60/7a/e881b5abb54db0e6e671ab088d079c57ce54e8a01a3ca443f561ccadb37e/typing_extensions-3.7.4.3-py3-none-any.whl\n",
      "Collecting cached-property; python_version < \"3.8\" (from h5py~=3.1.0->tensorflow)\n",
      "  Using cached https://files.pythonhosted.org/packages/48/19/f2090f7dad41e225c7f2326e4cfe6fff49e57dedb5b53636c9551f86b069/cached_property-1.5.2-py2.py3-none-any.whl\n",
      "Collecting tensorboard-plugin-wit>=1.6.0 (from tensorboard~=2.5->tensorflow)\n",
      "  Using cached https://files.pythonhosted.org/packages/1a/c1/499e600ba0c618b451cd9c425ae1c177249940a2086316552fee7d86c954/tensorboard_plugin_wit-1.8.0-py3-none-any.whl\n",
      "Collecting markdown>=2.6.8 (from tensorboard~=2.5->tensorflow)\n",
      "  Using cached https://files.pythonhosted.org/packages/6e/33/1ae0f71395e618d6140fbbc9587cc3156591f748226075e0f7d6f9176522/Markdown-3.3.4-py3-none-any.whl\n",
      "Collecting google-auth<2,>=1.6.3 (from tensorboard~=2.5->tensorflow)\n",
      "  Using cached https://files.pythonhosted.org/packages/35/bb/694d851e2c0776a422d43d579b82b7cc065da248d557f37595563824b1c9/google_auth-1.34.0-py2.py3-none-any.whl\n",
      "Collecting google-auth-oauthlib<0.5,>=0.4.1 (from tensorboard~=2.5->tensorflow)\n",
      "  Using cached https://files.pythonhosted.org/packages/45/d9/df4019fc28b3aed8218e1bfca38158b90b70a3583c15f568ca669564dc24/google_auth_oauthlib-0.4.5-py2.py3-none-any.whl\n",
      "Collecting tensorboard-data-server<0.7.0,>=0.6.0 (from tensorboard~=2.5->tensorflow)\n",
      "  Using cached https://files.pythonhosted.org/packages/74/69/5747a957f95e2e1d252ca41476ae40ce79d70d38151d2e494feb7722860c/tensorboard_data_server-0.6.1-py3-none-any.whl\n",
      "Requirement already satisfied: werkzeug>=0.11.15 in c:\\programdata\\anaconda3\\lib\\site-packages (from tensorboard~=2.5->tensorflow) (0.14.1)\n",
      "Collecting setuptools>=41.0.0 (from tensorboard~=2.5->tensorflow)\n",
      "  Using cached https://files.pythonhosted.org/packages/bd/25/5bdf7f1adeebd4e3fa76b2e2f045ae53ee208e40a4231ad0f0c3007e4353/setuptools-57.4.0-py3-none-any.whl\n",
      "Requirement already satisfied: requests<3,>=2.21.0 in c:\\programdata\\anaconda3\\lib\\site-packages (from tensorboard~=2.5->tensorflow) (2.21.0)\n",
      "Requirement already satisfied: importlib-metadata; python_version < \"3.8\" in c:\\programdata\\anaconda3\\lib\\site-packages (from markdown>=2.6.8->tensorboard~=2.5->tensorflow) (0.0.0)\n",
      "Collecting cachetools<5.0,>=2.0.0 (from google-auth<2,>=1.6.3->tensorboard~=2.5->tensorflow)\n",
      "  Using cached https://files.pythonhosted.org/packages/bf/28/c4f5796c67ad06bb91d98d543a5e01805c1ff065e08871f78e52d2a331ad/cachetools-4.2.2-py3-none-any.whl\n",
      "Collecting rsa<5,>=3.1.4; python_version >= \"3.6\" (from google-auth<2,>=1.6.3->tensorboard~=2.5->tensorflow)\n",
      "  Using cached https://files.pythonhosted.org/packages/e9/93/0c0f002031f18b53af7a6166103c02b9c0667be528944137cc954ec921b3/rsa-4.7.2-py3-none-any.whl\n",
      "Requirement already satisfied: pyasn1-modules>=0.2.1 in c:\\programdata\\anaconda3\\lib\\site-packages (from google-auth<2,>=1.6.3->tensorboard~=2.5->tensorflow) (0.2.8)\n",
      "Collecting requests-oauthlib>=0.7.0 (from google-auth-oauthlib<0.5,>=0.4.1->tensorboard~=2.5->tensorflow)\n",
      "  Using cached https://files.pythonhosted.org/packages/a3/12/b92740d845ab62ea4edf04d2f4164d82532b5a0b03836d4d4e71c6f3d379/requests_oauthlib-1.3.0-py2.py3-none-any.whl\n",
      "Requirement already satisfied: idna<2.9,>=2.5 in c:\\programdata\\anaconda3\\lib\\site-packages (from requests<3,>=2.21.0->tensorboard~=2.5->tensorflow) (2.8)\n",
      "Requirement already satisfied: certifi>=2017.4.17 in c:\\programdata\\anaconda3\\lib\\site-packages (from requests<3,>=2.21.0->tensorboard~=2.5->tensorflow) (2019.3.9)\n",
      "Requirement already satisfied: urllib3<1.25,>=1.21.1 in c:\\programdata\\anaconda3\\lib\\site-packages (from requests<3,>=2.21.0->tensorboard~=2.5->tensorflow) (1.24.1)\n",
      "Requirement already satisfied: chardet<3.1.0,>=3.0.2 in c:\\programdata\\anaconda3\\lib\\site-packages (from requests<3,>=2.21.0->tensorboard~=2.5->tensorflow) (3.0.4)\n",
      "Requirement already satisfied: zipp>=0.3.2 in c:\\programdata\\anaconda3\\lib\\site-packages (from importlib-metadata; python_version < \"3.8\"->markdown>=2.6.8->tensorboard~=2.5->tensorflow) (0.3.3)\n",
      "Requirement already satisfied: pyasn1>=0.1.3 in c:\\programdata\\anaconda3\\lib\\site-packages (from rsa<5,>=3.1.4; python_version >= \"3.6\"->google-auth<2,>=1.6.3->tensorboard~=2.5->tensorflow) (0.4.8)\n",
      "Collecting oauthlib>=3.0.0 (from requests-oauthlib>=0.7.0->google-auth-oauthlib<0.5,>=0.4.1->tensorboard~=2.5->tensorflow)\n",
      "  Using cached https://files.pythonhosted.org/packages/e8/5d/9dd1c29e5a786525f6342f6c1d812ed2e37edc653ad297048c1668988053/oauthlib-3.1.1-py2.py3-none-any.whl\n",
      "Installing collected packages: six, wheel, astunparse, termcolor, gast, cached-property, numpy, h5py, keras-nightly, opt-einsum, protobuf, tensorflow-estimator, grpcio, absl-py, keras-preprocessing, tensorboard-plugin-wit, markdown, cachetools, setuptools, rsa, google-auth, oauthlib, requests-oauthlib, google-auth-oauthlib, tensorboard-data-server, tensorboard, wrapt, google-pasta, typing-extensions, tensorflow\n",
      "  Found existing installation: six 1.12.0\n",
      "    Uninstalling six-1.12.0:\n",
      "Note: you may need to restart the kernel to use updated packages.\n"
     ]
    },
    {
     "name": "stderr",
     "output_type": "stream",
     "text": [
      "tables 3.5.1 requires mock>=2.0, which is not installed.\n",
      "astroid 2.2.5 requires typed-ast>=1.3.0; implementation_name == \"cpython\", which is not installed.\n",
      "twisted 21.2.0 has requirement attrs>=19.2.0, but you'll have attrs 19.1.0 which is incompatible.\n",
      "automat 20.2.0 has requirement attrs>=19.2.0, but you'll have attrs 19.1.0 which is incompatible.\n",
      "Could not install packages due to an EnvironmentError: [WinError 5] Access is denied: 'c:\\\\programdata\\\\anaconda3\\\\lib\\\\site-packages\\\\__pycache__\\\\six.cpython-37.pyc'\n",
      "Consider using the `--user` option or check the permissions.\n",
      "\n"
     ]
    }
   ],
   "source": [
    "pip install tensorflow"
   ]
  },
  {
   "cell_type": "code",
   "execution_count": 1,
   "metadata": {},
   "outputs": [
    {
     "ename": "ModuleNotFoundError",
     "evalue": "No module named 'tensorflow'",
     "output_type": "error",
     "traceback": [
      "\u001b[1;31m---------------------------------------------------------------------------\u001b[0m",
      "\u001b[1;31mModuleNotFoundError\u001b[0m                       Traceback (most recent call last)",
      "\u001b[1;32m<ipython-input-1-d6579f534729>\u001b[0m in \u001b[0;36m<module>\u001b[1;34m\u001b[0m\n\u001b[1;32m----> 1\u001b[1;33m \u001b[1;32mimport\u001b[0m \u001b[0mtensorflow\u001b[0m\u001b[1;33m\u001b[0m\u001b[1;33m\u001b[0m\u001b[0m\n\u001b[0m",
      "\u001b[1;31mModuleNotFoundError\u001b[0m: No module named 'tensorflow'"
     ]
    }
   ],
   "source": [
    "import tensorflow"
   ]
  },
  {
   "cell_type": "code",
   "execution_count": 2,
   "metadata": {},
   "outputs": [
    {
     "name": "stdout",
     "output_type": "stream",
     "text": [
      "Collecting cpython\n",
      "  Downloading https://files.pythonhosted.org/packages/91/80/d01f39dd8e742d4548e497a28f70a5c556f7803f80598520f7f31096132a/cPython-0.0.6.tar.gz\n",
      "Collecting pymongo (from cpython)\n",
      "  Downloading https://files.pythonhosted.org/packages/f0/f6/73614cad83e38099d3464107660f2038497d24ba0b76de5a21fee9ef85ad/pymongo-3.12.0-cp37-cp37m-win_amd64.whl (396kB)\n",
      "Requirement already satisfied: requests in c:\\programdata\\anaconda3\\lib\\site-packages (from cpython) (2.21.0)\n",
      "Requirement already satisfied: certifi>=2017.4.17 in c:\\programdata\\anaconda3\\lib\\site-packages (from requests->cpython) (2019.3.9)\n",
      "Requirement already satisfied: idna<2.9,>=2.5 in c:\\programdata\\anaconda3\\lib\\site-packages (from requests->cpython) (2.8)\n",
      "Requirement already satisfied: chardet<3.1.0,>=3.0.2 in c:\\programdata\\anaconda3\\lib\\site-packages (from requests->cpython) (3.0.4)\n",
      "Requirement already satisfied: urllib3<1.25,>=1.21.1 in c:\\programdata\\anaconda3\\lib\\site-packages (from requests->cpython) (1.24.1)\n",
      "Building wheels for collected packages: cpython\n",
      "  Building wheel for cpython (setup.py): started\n",
      "  Building wheel for cpython (setup.py): finished with status 'done'\n",
      "  Stored in directory: C:\\Users\\mahes\\AppData\\Local\\pip\\Cache\\wheels\\96\\a8\\ca\\1e4bbac2c17f655877b9abcb468bc67fb14ce349da01e48372\n",
      "Successfully built cpython\n",
      "Installing collected packages: pymongo, cpython\n",
      "Successfully installed cpython-0.0.6 pymongo-3.12.0\n",
      "Note: you may need to restart the kernel to use updated packages.\n"
     ]
    }
   ],
   "source": [
    "pip install cpython"
   ]
  },
  {
   "cell_type": "code",
   "execution_count": 14,
   "metadata": {},
   "outputs": [
    {
     "name": "stdout",
     "output_type": "stream",
     "text": [
      "['aamir.jpg', 'farhan.jpeg', 'kareena.jpg', 'khan.png', 'mahesh.jpg', 'mahesh1.jpeg', 'rahul.jpeg', 'Samarth.jpg']\n",
      "['aamir', 'farhan', 'kareena', 'khan', 'mahesh', 'mahesh1', 'rahul', 'Samarth']\n",
      "Encoding Complete\n"
     ]
    }
   ],
   "source": [
    "# Face Detection through camera \n",
    "# Create folder for images (It should contain only one files)\n",
    "# .csv file should be already created in specific folder path\n",
    "# Got error as assertion failed because of existing different files other than images \n",
    "\n",
    "import cv2\n",
    "import numpy as np\n",
    "import face_recognition\n",
    "import os\n",
    "from datetime import datetime\n",
    "# from PIL import ImageGrab\n",
    " \n",
    "path = 'ImageBasic'\n",
    "images = []\n",
    "classNames = []\n",
    "myList = os.listdir(path)\n",
    "print(myList)\n",
    "\n",
    "for cl in myList:\n",
    "    curImg = cv2.imread(f'{path}/{cl}')\n",
    "    images.append(curImg)\n",
    "    classNames.append(os.path.splitext(cl)[0])\n",
    "print(classNames)\n",
    "\n",
    "def findEncodings(images):\n",
    "    encodeList = []\n",
    "    for img in images:\n",
    "        img = cv2.cvtColor(img, cv2.COLOR_BGR2RGB)\n",
    "        encode = face_recognition.face_encodings(img)[0]\n",
    "        encodeList.append(encode)\n",
    "    return encodeList\n",
    "\n",
    "# printing all instances of face matching will go in .csv file\n",
    "def markAttendance(name):\n",
    "    with open('C:\\\\Users\\\\mahes\\\\Desktop\\\\face.csv','r+') as f:  \n",
    "        myDataList = f.readlines()\n",
    "        nameList = []\n",
    "        for line in myDataList:\n",
    "            entry = line.split(',')\n",
    "            nameList.append(entry[0])\n",
    "#         if name in nameList:\n",
    "            now = datetime.now()\n",
    "            dtString = now.strftime('%H:%M:%S')\n",
    "        f.writelines(f'\\n{name},{dtString}')\n",
    "\n",
    "# printing only first appearance of face matching ..will go in .csv file\n",
    "# def markAttendance(name):\n",
    "#     with open('C:\\\\Users\\\\mahes\\\\Desktop\\\\face.csv','r+') as f:  \n",
    "#         myDataList = f.readlines()\n",
    "#         nameList = []\n",
    "#         for line in myDataList:\n",
    "#             entry = line.split(',')\n",
    "#             nameList.append(entry[0])\n",
    "#         if name in nameList:\n",
    "#             now = datetime.now()\n",
    "#             dtString = now.strftime('%H:%M:%S')\n",
    "#             f.writelines(f'\\n{name},{dtString}')\n",
    "        \n",
    " \n",
    "encodeListKnown = findEncodings(images)\n",
    "print('Encoding Complete')\n",
    " \n",
    "cap = cv2.VideoCapture(0)\n",
    " \n",
    "while True:\n",
    "    success, img = cap.read()\n",
    "    #img = captureScreen()\n",
    "    imgS = cv2.resize(img,(0,0),None,0.25,0.25)\n",
    "    imgS = cv2.cvtColor(imgS, cv2.COLOR_BGR2RGB)\n",
    "\n",
    "    facesCurFrame = face_recognition.face_locations(imgS)\n",
    "    encodesCurFrame = face_recognition.face_encodings(imgS,facesCurFrame)\n",
    "\n",
    "    for encodeFace,faceLoc in zip(encodesCurFrame,facesCurFrame):\n",
    "        matches = face_recognition.compare_faces(encodeListKnown,encodeFace)\n",
    "        faceDis = face_recognition.face_distance(encodeListKnown,encodeFace)\n",
    "        #print(faceDis)\n",
    "        matchIndex = np.argmin(faceDis)\n",
    "\n",
    "        if matches[matchIndex]:\n",
    "            name = classNames[matchIndex].upper()\n",
    "            #print(name)\n",
    "            y1,x2,y2,x1 = faceLoc\n",
    "            y1, x2, y2, x1 = y1*4,x2*4,y2*4,x1*4\n",
    "            cv2.rectangle(img,(x1,y1),(x2,y2),(0,255,0),2)\n",
    "            cv2.rectangle(img,(x1,y2-35),(x2,y2),(0,255,0),cv2.FILLED)\n",
    "            cv2.putText(img,name,(x1+6,y2-6),cv2.FONT_HERSHEY_COMPLEX,1,(255,255,255),2)\n",
    "            markAttendance(name)\n",
    "    cv2.imshow('Webcam', img)\n",
    "#     cv2.waitKey(1)\n",
    "    \n",
    "    k = cv2.waitKey(30) & 0xff\n",
    "    if k == 27:\n",
    "        break\n",
    "        \n",
    "cap.release()\n",
    "cv2.destroyAllWindows()\n",
    "# cv2.imshow('Webcam',img)\n",
    "# cv2.waitKey(1)"
   ]
  },
  {
   "cell_type": "code",
   "execution_count": 3,
   "metadata": {},
   "outputs": [
    {
     "name": "stdout",
     "output_type": "stream",
     "text": [
      "[False] [0.83134215]\n"
     ]
    },
    {
     "data": {
      "text/plain": [
       "-1"
      ]
     },
     "execution_count": 3,
     "metadata": {},
     "output_type": "execute_result"
    }
   ],
   "source": [
    "import cv2\n",
    "import face_recognition\n",
    " \n",
    "imgElon = face_recognition.load_image_file('ImageBasic/aamir.jpg')\n",
    "imgElon = cv2.cvtColor(imgElon,cv2.COLOR_BGR2RGB)\n",
    "imgTest = face_recognition.load_image_file('ImageBasic/khan.png')\n",
    "imgTest = cv2.cvtColor(imgTest,cv2.COLOR_BGR2RGB)\n",
    " \n",
    "faceLoc = face_recognition.face_locations(imgElon)[0]\n",
    "encodeElon = face_recognition.face_encodings(imgElon)[0]\n",
    "cv2.rectangle(imgElon,(faceLoc[3],faceLoc[0]),(faceLoc[1],faceLoc[2]),(255,0,255),2)\n",
    " \n",
    "faceLocTest = face_recognition.face_locations(imgTest)[0]\n",
    "encodeTest = face_recognition.face_encodings(imgTest)[0]\n",
    "cv2.rectangle(imgTest,(faceLocTest[3],faceLocTest[0]),(faceLocTest[1],faceLocTest[2]),(255,0,255),2)\n",
    " \n",
    "results = face_recognition.compare_faces([encodeElon],encodeTest)\n",
    "faceDis = face_recognition.face_distance([encodeElon],encodeTest)\n",
    "print(results,faceDis)\n",
    "cv2.putText(imgTest,f'{results} {round(faceDis[0],2)}',(50,50),cv2.FONT_HERSHEY_COMPLEX,1,(0,0,255),2)\n",
    " \n",
    "cv2.imshow('Elon Musk',imgElon)\n",
    "cv2.imshow('Elon Test',imgTest)\n",
    "cv2.waitKey(0)"
   ]
  },
  {
   "cell_type": "code",
   "execution_count": 2,
   "metadata": {},
   "outputs": [
    {
     "name": "stdout",
     "output_type": "stream",
     "text": [
      "[True] [0.40863694]\n"
     ]
    },
    {
     "data": {
      "text/plain": [
       "-1"
      ]
     },
     "execution_count": 2,
     "metadata": {},
     "output_type": "execute_result"
    }
   ],
   "source": [
    "#Face Detection for two Images\n",
    "# .py file\n",
    "\n",
    "#import Packages\n",
    "import cv2\n",
    "import face_recognition\n",
    " \n",
    "#Enter Path of Image1  \n",
    "img = face_recognition.load_image_file('C:\\\\Users\\\\mahes\\\\test\\\\face\\\\ImageBasic\\\\2.jpeg')\n",
    "img = cv2.cvtColor(img,cv2.COLOR_BGR2RGB)\n",
    "\n",
    "#Enter Path of Image2\n",
    "imgTest = face_recognition.load_image_file('C:\\\\Users\\\\mahes\\\\test\\\\face\\\\ImageBasic\\\\mahesh.jpg')\n",
    "imgTest = cv2.cvtColor(imgTest,cv2.COLOR_BGR2RGB)\n",
    "\n",
    "#Face Detection on Image2 using Image1\n",
    "faceLoc = face_recognition.face_locations(img)[0]\n",
    "encodeImg = face_recognition.face_encodings(img)[0]\n",
    "cv2.rectangle(img,(faceLoc[3],faceLoc[0]),(faceLoc[1],faceLoc[2]),(255,0,255),2)\n",
    " \n",
    "faceLocTest = face_recognition.face_locations(imgTest)[0]\n",
    "encodeTest = face_recognition.face_encodings(imgTest)[0]\n",
    "cv2.rectangle(imgTest,(faceLocTest[3],faceLocTest[0]),(faceLocTest[1],faceLocTest[2]),(255,0,255),2)\n",
    " \n",
    "results = face_recognition.compare_faces([encodeImg],encodeTest)\n",
    "faceDis = face_recognition.face_distance([encodeImg],encodeTest)\n",
    "print(results,faceDis)\n",
    "cv2.putText(imgTest,f'{results} {round(faceDis[0],2)}',(50,50),cv2.FONT_HERSHEY_COMPLEX,1,(0,0,255),2)\n",
    " \n",
    "cv2.imshow('Image',img)\n",
    "cv2.imshow('Test Result',imgTest)\n",
    "cv2.waitKey(0)"
   ]
  },
  {
   "cell_type": "code",
   "execution_count": null,
   "metadata": {},
   "outputs": [],
   "source": []
  }
 ],
 "metadata": {
  "kernelspec": {
   "display_name": "Python 3",
   "language": "python",
   "name": "python3"
  },
  "language_info": {
   "codemirror_mode": {
    "name": "ipython",
    "version": 3
   },
   "file_extension": ".py",
   "mimetype": "text/x-python",
   "name": "python",
   "nbconvert_exporter": "python",
   "pygments_lexer": "ipython3",
   "version": "3.7.3"
  }
 },
 "nbformat": 4,
 "nbformat_minor": 2
}
