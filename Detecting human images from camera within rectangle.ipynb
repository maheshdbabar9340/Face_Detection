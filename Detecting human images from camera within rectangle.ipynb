{
 "cells": [
  {
   "cell_type": "code",
   "execution_count": 1,
   "metadata": {},
   "outputs": [],
   "source": [
    "import numpy as np\n",
    "import cv2\n",
    "\n",
    "# multiple cascades: https://github.com/Itseez/opencv/tree/master/data/haarcascades\n",
    "\n",
    "#https://github.com/Itseez/opencv/blob/master/data/haarcascades/haarcascade_frontalface_default.xml\n",
    "face_cascade = cv2.CascadeClassifier('haarcascade_frontalface_default.xml')\n",
    "\n",
    "# left_eye_cascade = cv2.CascadeClassifier('haarcascade_lefteye_2splits.xml')\n",
    "#https://github.com/Itseez/opencv/blob/master/data/haarcascades/haarcascade_eye.xml\n",
    "eye_cascade = cv2.CascadeClassifier('haarcascade_eye.xml')\n",
    "\n",
    "# smile_cascade = cv2.CascadeClassifier('haarcascade_smile.xml')\n",
    "\n",
    "cap = cv2.VideoCapture(0)"
   ]
  },
  {
   "cell_type": "code",
   "execution_count": 2,
   "metadata": {},
   "outputs": [],
   "source": [
    "while 1:\n",
    "    ret, img = cap.read()\n",
    "    gray = cv2.cvtColor(img, cv2.COLOR_BGR2GRAY)\n",
    "    faces = face_cascade.detectMultiScale(gray, 1.3, 5)\n",
    "    \n",
    "    for (x,y,w,h) in faces:\n",
    "        cv2.rectangle(img,(x,y),(x+w,y+h),(255,0,0),2)\n",
    "        roi_gray = gray[y:y+h, x:x+w]\n",
    "        roi_color = img[y:y+h, x:x+w]\n",
    "        \n",
    "        eyes = eye_cascade.detectMultiScale(roi_gray)\n",
    "#         eyes = left_eye_cascade.detectMultiScale(roi_gray)\n",
    "#         eyes = smile_cascade.detectMultiScale(roi_gray)\n",
    "        for (ex,ey,ew,eh) in eyes:\n",
    "            cv2.rectangle(roi_color,(ex,ey),(ex+ew,ey+eh),(0,255,0),2)\n",
    "            \n",
    "    cv2.imshow('img',img)\n",
    "    k = cv2.waitKey(30) & 0xff\n",
    "    if k == 27:\n",
    "        break\n",
    "\n",
    "cap.release()\n",
    "cv2.destroyAllWindows()\n",
    "\n",
    "# https://pythonprogramming.net/haar-cascade-face-eye-detection-python-opencv-tutorial/"
   ]
  },
  {
   "cell_type": "markdown",
   "metadata": {},
   "source": [
    "Faces and Eyes Detection using camera Done Here!!\n"
   ]
  },
  {
   "cell_type": "code",
   "execution_count": 3,
   "metadata": {},
   "outputs": [
    {
     "name": "stdout",
     "output_type": "stream",
     "text": [
      "Requirement already satisfied: opencv-python in c:\\programdata\\anaconda3\\lib\\site-packages (4.5.2.54)\n",
      "Requirement already satisfied: numpy>=1.14.5 in c:\\programdata\\anaconda3\\lib\\site-packages (from opencv-python) (1.16.2)\n",
      "Note: you may need to restart the kernel to use updated packages.\n"
     ]
    }
   ],
   "source": [
    "pip install opencv-python"
   ]
  },
  {
   "cell_type": "code",
   "execution_count": 1,
   "metadata": {},
   "outputs": [],
   "source": [
    "import cv2\n",
    "\n",
    "# Load the cascade\n",
    "face_cascade = cv2.CascadeClassifier('haarcascade_frontalface_default.xml')\n",
    "\n",
    "# To capture video from webcam. \n",
    "# cap = cv2.VideoCapture(0)\n",
    "# To use a video file as input\n",
    "cap = cv2.VideoCapture('taarezameenpar.mp4') \n",
    "\n",
    "while True:\n",
    "    # Read the frame\n",
    "    _, img = cap.read()\n",
    "    # Convert to grayscale\n",
    "    gray = cv2.cvtColor(img, cv2.COLOR_BGR2GRAY)\n",
    "    # Detect the faces\n",
    "    faces = face_cascade.detectMultiScale(gray, 1.1, 4)\n",
    "    # Draw the rectangle around each face\n",
    "    for (x, y, w, h) in faces:\n",
    "        cv2.rectangle(img, (x, y), (x+w, y+h), (255, 0, 0), 2)\n",
    "    # Display\n",
    "    cv2.imshow('img', img)\n",
    "    # Stop if escape key is pressed\n",
    "    k = cv2.waitKey(30) & 0xff\n",
    "    if k==27:\n",
    "        break\n",
    "# Release the VideoCapture object\n",
    "cap.release()\n"
   ]
  },
  {
   "cell_type": "markdown",
   "metadata": {},
   "source": [
    "Only face detection using camera done!!"
   ]
  },
  {
   "cell_type": "code",
   "execution_count": 1,
   "metadata": {},
   "outputs": [
    {
     "name": "stdout",
     "output_type": "stream",
     "text": [
      "Requirement already satisfied: numpy in c:\\programdata\\anaconda3\\lib\\site-packages (1.16.2)\n",
      "Requirement already satisfied: scipy in c:\\programdata\\anaconda3\\lib\\site-packages (1.2.1)\n",
      "Requirement already satisfied: matplotlib in c:\\programdata\\anaconda3\\lib\\site-packages (3.0.3)\n",
      "Requirement already satisfied: scikit-learn in c:\\programdata\\anaconda3\\lib\\site-packages (0.20.3)\n",
      "Requirement already satisfied: jupyter in c:\\programdata\\anaconda3\\lib\\site-packages (1.0.0)\n",
      "Requirement already satisfied: cycler>=0.10 in c:\\programdata\\anaconda3\\lib\\site-packages (from matplotlib) (0.10.0)\n",
      "Requirement already satisfied: kiwisolver>=1.0.1 in c:\\programdata\\anaconda3\\lib\\site-packages (from matplotlib) (1.0.1)\n",
      "Requirement already satisfied: pyparsing!=2.0.4,!=2.1.2,!=2.1.6,>=2.0.1 in c:\\programdata\\anaconda3\\lib\\site-packages (from matplotlib) (2.3.1)\n",
      "Requirement already satisfied: python-dateutil>=2.1 in c:\\programdata\\anaconda3\\lib\\site-packages (from matplotlib) (2.8.0)\n",
      "Requirement already satisfied: qtconsole in c:\\programdata\\anaconda3\\lib\\site-packages (from jupyter) (4.4.3)\n",
      "Requirement already satisfied: ipykernel in c:\\programdata\\anaconda3\\lib\\site-packages (from jupyter) (5.1.0)\n",
      "Requirement already satisfied: ipywidgets in c:\\programdata\\anaconda3\\lib\\site-packages (from jupyter) (7.4.2)\n",
      "Requirement already satisfied: notebook in c:\\programdata\\anaconda3\\lib\\site-packages (from jupyter) (5.7.8)\n",
      "Requirement already satisfied: jupyter-console in c:\\programdata\\anaconda3\\lib\\site-packages (from jupyter) (6.0.0)\n",
      "Requirement already satisfied: nbconvert in c:\\programdata\\anaconda3\\lib\\site-packages (from jupyter) (5.4.1)\n",
      "Requirement already satisfied: six in c:\\programdata\\anaconda3\\lib\\site-packages (from cycler>=0.10->matplotlib) (1.12.0)\n",
      "Requirement already satisfied: setuptools in c:\\programdata\\anaconda3\\lib\\site-packages (from kiwisolver>=1.0.1->matplotlib) (40.8.0)\n",
      "Requirement already satisfied: traitlets in c:\\programdata\\anaconda3\\lib\\site-packages (from qtconsole->jupyter) (4.3.2)\n",
      "Requirement already satisfied: ipython_genutils in c:\\programdata\\anaconda3\\lib\\site-packages (from qtconsole->jupyter) (0.2.0)\n",
      "Requirement already satisfied: jupyter_core in c:\\programdata\\anaconda3\\lib\\site-packages (from qtconsole->jupyter) (4.4.0)\n",
      "Requirement already satisfied: jupyter_client>=4.1 in c:\\programdata\\anaconda3\\lib\\site-packages (from qtconsole->jupyter) (5.2.4)\n",
      "Requirement already satisfied: pygments in c:\\programdata\\anaconda3\\lib\\site-packages (from qtconsole->jupyter) (2.3.1)\n",
      "Requirement already satisfied: ipython>=5.0.0 in c:\\programdata\\anaconda3\\lib\\site-packages (from ipykernel->jupyter) (7.4.0)\n",
      "Requirement already satisfied: tornado>=4.2 in c:\\programdata\\anaconda3\\lib\\site-packages (from ipykernel->jupyter) (6.0.2)\n",
      "Requirement already satisfied: widgetsnbextension~=3.4.0 in c:\\programdata\\anaconda3\\lib\\site-packages (from ipywidgets->jupyter) (3.4.2)\n",
      "Requirement already satisfied: nbformat>=4.2.0 in c:\\programdata\\anaconda3\\lib\\site-packages (from ipywidgets->jupyter) (4.4.0)\n",
      "Requirement already satisfied: terminado>=0.8.1 in c:\\programdata\\anaconda3\\lib\\site-packages (from notebook->jupyter) (0.8.1)\n",
      "Requirement already satisfied: Send2Trash in c:\\programdata\\anaconda3\\lib\\site-packages (from notebook->jupyter) (1.5.0)\n",
      "Requirement already satisfied: pyzmq>=17 in c:\\programdata\\anaconda3\\lib\\site-packages (from notebook->jupyter) (18.0.0)\n",
      "Requirement already satisfied: prometheus-client in c:\\programdata\\anaconda3\\lib\\site-packages (from notebook->jupyter) (0.6.0)\n",
      "Requirement already satisfied: jinja2 in c:\\programdata\\anaconda3\\lib\\site-packages (from notebook->jupyter) (2.10)\n",
      "Requirement already satisfied: prompt_toolkit<2.1.0,>=2.0.0 in c:\\programdata\\anaconda3\\lib\\site-packages (from jupyter-console->jupyter) (2.0.9)\n",
      "Requirement already satisfied: mistune>=0.8.1 in c:\\programdata\\anaconda3\\lib\\site-packages (from nbconvert->jupyter) (0.8.4)\n",
      "Requirement already satisfied: entrypoints>=0.2.2 in c:\\programdata\\anaconda3\\lib\\site-packages (from nbconvert->jupyter) (0.3)\n",
      "Requirement already satisfied: bleach in c:\\programdata\\anaconda3\\lib\\site-packages (from nbconvert->jupyter) (3.1.0)\n",
      "Requirement already satisfied: pandocfilters>=1.4.1 in c:\\programdata\\anaconda3\\lib\\site-packages (from nbconvert->jupyter) (1.4.2)\n",
      "Requirement already satisfied: testpath in c:\\programdata\\anaconda3\\lib\\site-packages (from nbconvert->jupyter) (0.4.2)\n",
      "Requirement already satisfied: defusedxml in c:\\programdata\\anaconda3\\lib\\site-packages (from nbconvert->jupyter) (0.5.0)\n",
      "Requirement already satisfied: decorator in c:\\programdata\\anaconda3\\lib\\site-packages (from traitlets->qtconsole->jupyter) (4.4.0)\n",
      "Requirement already satisfied: jedi>=0.10 in c:\\programdata\\anaconda3\\lib\\site-packages (from ipython>=5.0.0->ipykernel->jupyter) (0.13.3)\n",
      "Requirement already satisfied: backcall in c:\\programdata\\anaconda3\\lib\\site-packages (from ipython>=5.0.0->ipykernel->jupyter) (0.1.0)\n",
      "Requirement already satisfied: colorama; sys_platform == \"win32\" in c:\\programdata\\anaconda3\\lib\\site-packages (from ipython>=5.0.0->ipykernel->jupyter) (0.4.1)\n",
      "Requirement already satisfied: pickleshare in c:\\programdata\\anaconda3\\lib\\site-packages (from ipython>=5.0.0->ipykernel->jupyter) (0.7.5)\n",
      "Requirement already satisfied: jsonschema!=2.5.0,>=2.4 in c:\\programdata\\anaconda3\\lib\\site-packages (from nbformat>=4.2.0->ipywidgets->jupyter) (3.0.1)\n",
      "Requirement already satisfied: MarkupSafe>=0.23 in c:\\programdata\\anaconda3\\lib\\site-packages (from jinja2->notebook->jupyter) (1.1.1)\n",
      "Requirement already satisfied: wcwidth in c:\\programdata\\anaconda3\\lib\\site-packages (from prompt_toolkit<2.1.0,>=2.0.0->jupyter-console->jupyter) (0.1.7)\n",
      "Requirement already satisfied: webencodings in c:\\programdata\\anaconda3\\lib\\site-packages (from bleach->nbconvert->jupyter) (0.5.1)\n",
      "Requirement already satisfied: parso>=0.3.0 in c:\\programdata\\anaconda3\\lib\\site-packages (from jedi>=0.10->ipython>=5.0.0->ipykernel->jupyter) (0.3.4)\n",
      "Requirement already satisfied: attrs>=17.4.0 in c:\\programdata\\anaconda3\\lib\\site-packages (from jsonschema!=2.5.0,>=2.4->nbformat>=4.2.0->ipywidgets->jupyter) (19.1.0)\n",
      "Requirement already satisfied: pyrsistent>=0.14.0 in c:\\programdata\\anaconda3\\lib\\site-packages (from jsonschema!=2.5.0,>=2.4->nbformat>=4.2.0->ipywidgets->jupyter) (0.14.11)\n",
      "Note: you may need to restart the kernel to use updated packages.\n"
     ]
    }
   ],
   "source": [
    "pip install numpy scipy matplotlib scikit-learn jupyter\n"
   ]
  },
  {
   "cell_type": "code",
   "execution_count": 2,
   "metadata": {},
   "outputs": [
    {
     "name": "stdout",
     "output_type": "stream",
     "text": [
      "Collecting opencv-contrib-python\n",
      "  Downloading https://files.pythonhosted.org/packages/6e/a3/6e2769f9c3ed35fc8fb70dc14d483d35ce789380442eee9b49fc411129f0/opencv_contrib_python-4.5.3.56-cp37-cp37m-win_amd64.whl (41.8MB)\n",
      "Requirement already satisfied: numpy>=1.14.5 in c:\\programdata\\anaconda3\\lib\\site-packages (from opencv-contrib-python) (1.16.2)\n",
      "Installing collected packages: opencv-contrib-python\n",
      "Successfully installed opencv-contrib-python-4.5.3.56\n",
      "Note: you may need to restart the kernel to use updated packages.\n"
     ]
    }
   ],
   "source": [
    "pip install opencv-contrib-python\n"
   ]
  },
  {
   "cell_type": "code",
   "execution_count": 1,
   "metadata": {},
   "outputs": [
    {
     "name": "stdout",
     "output_type": "stream",
     "text": [
      "Collecting dlib\n",
      "  Using cached https://files.pythonhosted.org/packages/11/93/ec41d6ef7e769977aa08e49441c52276da27859f12dcbf1c6deb96ce5e9f/dlib-19.22.0.tar.gz\n",
      "Building wheels for collected packages: dlib\n",
      "  Building wheel for dlib (setup.py): started\n",
      "  Building wheel for dlib (setup.py): finished with status 'error'\n",
      "  Complete output from command C:\\ProgramData\\Anaconda3\\python.exe -u -c \"import setuptools, tokenize;__file__='C:\\\\Users\\\\mahes\\\\AppData\\\\Local\\\\Temp\\\\pip-install-hw35txva\\\\dlib\\\\setup.py';f=getattr(tokenize, 'open', open)(__file__);code=f.read().replace('\\r\\n', '\\n');f.close();exec(compile(code, __file__, 'exec'))\" bdist_wheel -d C:\\Users\\mahes\\AppData\\Local\\Temp\\pip-wheel-hf31v0ow --python-tag cp37:\n",
      "  running bdist_wheel\n",
      "  running build\n",
      "  running build_py\n",
      "  package init file 'tools\\python\\dlib\\__init__.py' not found (or not a regular file)\n",
      "  running build_ext\n",
      "  Building extension for Python 3.7.3 (default, Mar 27 2019, 17:13:21) [MSC v.1915 64 bit (AMD64)]\n",
      "  Invoking CMake setup: 'cmake C:\\Users\\mahes\\AppData\\Local\\Temp\\pip-install-hw35txva\\dlib\\tools\\python -DCMAKE_LIBRARY_OUTPUT_DIRECTORY=C:\\Users\\mahes\\AppData\\Local\\Temp\\pip-install-hw35txva\\dlib\\build\\lib.win-amd64-3.7 -DPYTHON_EXECUTABLE=C:\\ProgramData\\Anaconda3\\python.exe -DCMAKE_LIBRARY_OUTPUT_DIRECTORY_RELEASE=C:\\Users\\mahes\\AppData\\Local\\Temp\\pip-install-hw35txva\\dlib\\build\\lib.win-amd64-3.7 -A x64'\n",
      "  -- Building for: NMake Makefiles\n",
      "  CMake Error at CMakeLists.txt:5 (message):\n",
      "  \n",
      "  \n",
      "  \n",
      "    !!!!!!!!!!!!!!!!!!!!!!!!!!!!!!!!!!!!!!!!!!!!!!!!!!!!!!!!!!!!!!!!!!!!!!!!!!!!!!!\n",
      "  \n",
      "  \n",
      "    You must use Visual Studio to build a python extension on windows.  If you\n",
      "    are getting this error it means you have not installed Visual C++.  Note\n",
      "    that there are many flavors of Visual Studio, like Visual Studio for C#\n",
      "    development.  You need to install Visual Studio for C++.\n",
      "  \n",
      "  \n",
      "    !!!!!!!!!!!!!!!!!!!!!!!!!!!!!!!!!!!!!!!!!!!!!!!!!!!!!!!!!!!!!!!!!!!!!!!!!!!!!!!\n",
      "  \n",
      "  \n",
      "  \n",
      "  \n",
      "  -- Configuring incomplete, errors occurred!\n",
      "  Traceback (most recent call last):\n",
      "    File \"<string>\", line 1, in <module>\n",
      "    File \"C:\\Users\\mahes\\AppData\\Local\\Temp\\pip-install-hw35txva\\dlib\\setup.py\", line 261, in <module>\n",
      "      'Topic :: Software Development',\n",
      "    File \"C:\\ProgramData\\Anaconda3\\lib\\site-packages\\setuptools\\__init__.py\", line 145, in setup\n",
      "      return distutils.core.setup(**attrs)\n",
      "    File \"C:\\ProgramData\\Anaconda3\\lib\\distutils\\core.py\", line 148, in setup\n",
      "      dist.run_commands()\n",
      "    File \"C:\\ProgramData\\Anaconda3\\lib\\distutils\\dist.py\", line 966, in run_commands\n",
      "      self.run_command(cmd)\n",
      "    File \"C:\\ProgramData\\Anaconda3\\lib\\distutils\\dist.py\", line 985, in run_command\n",
      "      cmd_obj.run()\n",
      "    File \"C:\\ProgramData\\Anaconda3\\lib\\site-packages\\wheel\\bdist_wheel.py\", line 192, in run\n",
      "      self.run_command('build')\n",
      "    File \"C:\\ProgramData\\Anaconda3\\lib\\distutils\\cmd.py\", line 313, in run_command\n",
      "      self.distribution.run_command(command)\n",
      "    File \"C:\\ProgramData\\Anaconda3\\lib\\distutils\\dist.py\", line 985, in run_command\n",
      "      cmd_obj.run()\n",
      "    File \"C:\\ProgramData\\Anaconda3\\lib\\distutils\\command\\build.py\", line 135, in run\n",
      "      self.run_command(cmd_name)\n",
      "    File \"C:\\ProgramData\\Anaconda3\\lib\\distutils\\cmd.py\", line 313, in run_command\n",
      "      self.distribution.run_command(command)\n",
      "    File \"C:\\ProgramData\\Anaconda3\\lib\\distutils\\dist.py\", line 985, in run_command\n",
      "      cmd_obj.run()\n",
      "    File \"C:\\Users\\mahes\\AppData\\Local\\Temp\\pip-install-hw35txva\\dlib\\setup.py\", line 134, in run\n",
      "      self.build_extension(ext)\n",
      "    File \"C:\\Users\\mahes\\AppData\\Local\\Temp\\pip-install-hw35txva\\dlib\\setup.py\", line 171, in build_extension\n",
      "      subprocess.check_call(cmake_setup, cwd=build_folder)\n",
      "    File \"C:\\ProgramData\\Anaconda3\\lib\\subprocess.py\", line 347, in check_call\n",
      "      raise CalledProcessError(retcode, cmd)\n",
      "  subprocess.CalledProcessError: Command '['cmake', 'C:\\\\Users\\\\mahes\\\\AppData\\\\Local\\\\Temp\\\\pip-install-hw35txva\\\\dlib\\\\tools\\\\python', '-DCMAKE_LIBRARY_OUTPUT_DIRECTORY=C:\\\\Users\\\\mahes\\\\AppData\\\\Local\\\\Temp\\\\pip-install-hw35txva\\\\dlib\\\\build\\\\lib.win-amd64-3.7', '-DPYTHON_EXECUTABLE=C:\\\\ProgramData\\\\Anaconda3\\\\python.exe', '-DCMAKE_LIBRARY_OUTPUT_DIRECTORY_RELEASE=C:\\\\Users\\\\mahes\\\\AppData\\\\Local\\\\Temp\\\\pip-install-hw35txva\\\\dlib\\\\build\\\\lib.win-amd64-3.7', '-A', 'x64']' returned non-zero exit status 1.\n",
      "  \n",
      "  ----------------------------------------\n",
      "  Running setup.py clean for dlib\n",
      "Failed to build dlib\n",
      "Installing collected packages: dlib\n",
      "  Running setup.py install for dlib: started\n",
      "    Running setup.py install for dlib: finished with status 'error'\n",
      "    Complete output from command C:\\ProgramData\\Anaconda3\\python.exe -u -c \"import setuptools, tokenize;__file__='C:\\\\Users\\\\mahes\\\\AppData\\\\Local\\\\Temp\\\\pip-install-hw35txva\\\\dlib\\\\setup.py';f=getattr(tokenize, 'open', open)(__file__);code=f.read().replace('\\r\\n', '\\n');f.close();exec(compile(code, __file__, 'exec'))\" install --record C:\\Users\\mahes\\AppData\\Local\\Temp\\pip-record-ahpq04mv\\install-record.txt --single-version-externally-managed --compile:\n",
      "    running install\n",
      "    running build\n",
      "    running build_py\n",
      "    package init file 'tools\\python\\dlib\\__init__.py' not found (or not a regular file)\n",
      "    running build_ext\n",
      "    Building extension for Python 3.7.3 (default, Mar 27 2019, 17:13:21) [MSC v.1915 64 bit (AMD64)]\n",
      "    Invoking CMake setup: 'cmake C:\\Users\\mahes\\AppData\\Local\\Temp\\pip-install-hw35txva\\dlib\\tools\\python -DCMAKE_LIBRARY_OUTPUT_DIRECTORY=C:\\Users\\mahes\\AppData\\Local\\Temp\\pip-install-hw35txva\\dlib\\build\\lib.win-amd64-3.7 -DPYTHON_EXECUTABLE=C:\\ProgramData\\Anaconda3\\python.exe -DCMAKE_LIBRARY_OUTPUT_DIRECTORY_RELEASE=C:\\Users\\mahes\\AppData\\Local\\Temp\\pip-install-hw35txva\\dlib\\build\\lib.win-amd64-3.7 -A x64'\n",
      "    -- Building for: NMake Makefiles\n",
      "    CMake Error at CMakeLists.txt:5 (message):\n",
      "    \n",
      "    \n",
      "    \n",
      "      !!!!!!!!!!!!!!!!!!!!!!!!!!!!!!!!!!!!!!!!!!!!!!!!!!!!!!!!!!!!!!!!!!!!!!!!!!!!!!!\n",
      "    \n",
      "    \n",
      "      You must use Visual Studio to build a python extension on windows.  If you\n",
      "      are getting this error it means you have not installed Visual C++.  Note\n",
      "      that there are many flavors of Visual Studio, like Visual Studio for C#\n",
      "      development.  You need to install Visual Studio for C++.\n",
      "    \n",
      "    \n",
      "      !!!!!!!!!!!!!!!!!!!!!!!!!!!!!!!!!!!!!!!!!!!!!!!!!!!!!!!!!!!!!!!!!!!!!!!!!!!!!!!\n",
      "    \n",
      "    \n",
      "    \n",
      "    \n",
      "    -- Configuring incomplete, errors occurred!\n",
      "    Traceback (most recent call last):\n",
      "      File \"<string>\", line 1, in <module>\n",
      "      File \"C:\\Users\\mahes\\AppData\\Local\\Temp\\pip-install-hw35txva\\dlib\\setup.py\", line 261, in <module>\n",
      "        'Topic :: Software Development',\n",
      "      File \"C:\\ProgramData\\Anaconda3\\lib\\site-packages\\setuptools\\__init__.py\", line 145, in setup\n",
      "        return distutils.core.setup(**attrs)\n",
      "      File \"C:\\ProgramData\\Anaconda3\\lib\\distutils\\core.py\", line 148, in setup\n",
      "        dist.run_commands()\n",
      "      File \"C:\\ProgramData\\Anaconda3\\lib\\distutils\\dist.py\", line 966, in run_commands\n",
      "        self.run_command(cmd)\n",
      "      File \"C:\\ProgramData\\Anaconda3\\lib\\distutils\\dist.py\", line 985, in run_command\n",
      "        cmd_obj.run()\n",
      "      File \"C:\\ProgramData\\Anaconda3\\lib\\site-packages\\setuptools\\command\\install.py\", line 61, in run\n",
      "        return orig.install.run(self)\n",
      "      File \"C:\\ProgramData\\Anaconda3\\lib\\distutils\\command\\install.py\", line 545, in run\n",
      "        self.run_command('build')\n",
      "      File \"C:\\ProgramData\\Anaconda3\\lib\\distutils\\cmd.py\", line 313, in run_command\n",
      "        self.distribution.run_command(command)\n",
      "      File \"C:\\ProgramData\\Anaconda3\\lib\\distutils\\dist.py\", line 985, in run_command\n",
      "        cmd_obj.run()\n",
      "      File \"C:\\ProgramData\\Anaconda3\\lib\\distutils\\command\\build.py\", line 135, in run\n",
      "        self.run_command(cmd_name)\n",
      "      File \"C:\\ProgramData\\Anaconda3\\lib\\distutils\\cmd.py\", line 313, in run_command\n",
      "        self.distribution.run_command(command)\n",
      "      File \"C:\\ProgramData\\Anaconda3\\lib\\distutils\\dist.py\", line 985, in run_command\n",
      "        cmd_obj.run()\n",
      "      File \"C:\\Users\\mahes\\AppData\\Local\\Temp\\pip-install-hw35txva\\dlib\\setup.py\", line 134, in run\n",
      "        self.build_extension(ext)\n",
      "      File \"C:\\Users\\mahes\\AppData\\Local\\Temp\\pip-install-hw35txva\\dlib\\setup.py\", line 171, in build_extension\n",
      "        subprocess.check_call(cmake_setup, cwd=build_folder)\n",
      "      File \"C:\\ProgramData\\Anaconda3\\lib\\subprocess.py\", line 347, in check_call\n",
      "        raise CalledProcessError(retcode, cmd)\n",
      "    subprocess.CalledProcessError: Command '['cmake', 'C:\\\\Users\\\\mahes\\\\AppData\\\\Local\\\\Temp\\\\pip-install-hw35txva\\\\dlib\\\\tools\\\\python', '-DCMAKE_LIBRARY_OUTPUT_DIRECTORY=C:\\\\Users\\\\mahes\\\\AppData\\\\Local\\\\Temp\\\\pip-install-hw35txva\\\\dlib\\\\build\\\\lib.win-amd64-3.7', '-DPYTHON_EXECUTABLE=C:\\\\ProgramData\\\\Anaconda3\\\\python.exe', '-DCMAKE_LIBRARY_OUTPUT_DIRECTORY_RELEASE=C:\\\\Users\\\\mahes\\\\AppData\\\\Local\\\\Temp\\\\pip-install-hw35txva\\\\dlib\\\\build\\\\lib.win-amd64-3.7', '-A', 'x64']' returned non-zero exit status 1.\n",
      "    \n",
      "    ----------------------------------------\n",
      "Note: you may need to restart the kernel to use updated packages.\n"
     ]
    },
    {
     "name": "stderr",
     "output_type": "stream",
     "text": [
      "  Failed building wheel for dlib\n",
      "Command \"C:\\ProgramData\\Anaconda3\\python.exe -u -c \"import setuptools, tokenize;__file__='C:\\\\Users\\\\mahes\\\\AppData\\\\Local\\\\Temp\\\\pip-install-hw35txva\\\\dlib\\\\setup.py';f=getattr(tokenize, 'open', open)(__file__);code=f.read().replace('\\r\\n', '\\n');f.close();exec(compile(code, __file__, 'exec'))\" install --record C:\\Users\\mahes\\AppData\\Local\\Temp\\pip-record-ahpq04mv\\install-record.txt --single-version-externally-managed --compile\" failed with error code 1 in C:\\Users\\mahes\\AppData\\Local\\Temp\\pip-install-hw35txva\\dlib\\\n"
     ]
    }
   ],
   "source": [
    "pip install dlib\n"
   ]
  },
  {
   "cell_type": "code",
   "execution_count": 1,
   "metadata": {},
   "outputs": [
    {
     "name": "stdout",
     "output_type": "stream",
     "text": [
      "Collecting CMake\n",
      "  Downloading https://files.pythonhosted.org/packages/f9/9a/a8ddd6b26ff95e78c03f2dcd90b880dc97c74f73b04ea884b726a7d794b4/cmake-3.21.1-py2.py3-none-win_amd64.whl (37.3MB)\n",
      "Installing collected packages: CMake\n",
      "Successfully installed CMake-3.21.1\n",
      "Note: you may need to restart the kernel to use updated packages.\n"
     ]
    }
   ],
   "source": [
    "pip install CMake"
   ]
  },
  {
   "cell_type": "code",
   "execution_count": null,
   "metadata": {},
   "outputs": [],
   "source": []
  }
 ],
 "metadata": {
  "kernelspec": {
   "display_name": "Python 3",
   "language": "python",
   "name": "python3"
  },
  "language_info": {
   "codemirror_mode": {
    "name": "ipython",
    "version": 3
   },
   "file_extension": ".py",
   "mimetype": "text/x-python",
   "name": "python",
   "nbconvert_exporter": "python",
   "pygments_lexer": "ipython3",
   "version": "3.7.3"
  }
 },
 "nbformat": 4,
 "nbformat_minor": 2
}
